{
 "cells": [
  {
   "cell_type": "markdown",
   "metadata": {},
   "source": [
    "based on this:\n",
    "https://python.langchain.com/docs/tutorials/local_rag/"
   ]
  },
  {
   "cell_type": "code",
   "execution_count": 1,
   "metadata": {},
   "outputs": [],
   "source": [
    "# # Document loading, retrieval methods and text splitting\n",
    "# !pip install -qU langchain langchain_community\n",
    "\n",
    "# # Local vector store via Chroma\n",
    "# !pip install -qU langchain_chroma\n",
    "\n",
    "# # Local inference and embeddings via Ollama\n",
    "# !pip install -qU langchain_ollama\n",
    "\n",
    "# # Web Loader\n",
    "# ! pip install -qU beautifulsoup4"
   ]
  },
  {
   "cell_type": "markdown",
   "metadata": {},
   "source": [
    "### Add the project root path to the python path"
   ]
  },
  {
   "cell_type": "code",
   "execution_count": 2,
   "metadata": {},
   "outputs": [],
   "source": [
    "import os, sys\n",
    "sys.path.append(os.path.join(os.path.abspath(os.curdir), '..'))"
   ]
  },
  {
   "cell_type": "markdown",
   "metadata": {},
   "source": [
    "## Load documents"
   ]
  },
  {
   "cell_type": "code",
   "execution_count": 3,
   "metadata": {},
   "outputs": [],
   "source": [
    "from postgres_connection import get_postgress_data, create_psql_connection\n",
    "from sql_files import sql_files\n",
    "import pandas as pd"
   ]
  },
  {
   "cell_type": "code",
   "execution_count": 4,
   "metadata": {},
   "outputs": [
    {
     "name": "stderr",
     "output_type": "stream",
     "text": [
      "/home/andrei/Ferdi_LLM/misc_notebooks/../postgres_connection.py:49: UserWarning: pandas only supports SQLAlchemy connectable (engine/connection) or database string URI or sqlite3 DBAPI2 connection. Other DBAPI2 objects are not tested. Please consider using SQLAlchemy.\n",
      "  df = pd.read_sql(query, conn)\n"
     ]
    }
   ],
   "source": [
    "COUNTRY_NAME = 'MLI Mali'\n",
    "SPOKEN_LANGUAGE = \"French\"\n",
    "\n",
    "df = get_postgress_data(sql_files['get_docs_per_country'].replace(\"%country_name%\", COUNTRY_NAME))"
   ]
  },
  {
   "cell_type": "code",
   "execution_count": 5,
   "metadata": {},
   "outputs": [],
   "source": [
    "import pyarrow as pa\n",
    "import pyarrow.dataset as ds\n",
    "import pandas as pd\n",
    "from datasets import Dataset\n",
    "from langchain_community.document_loaders import DataFrameLoader\n",
    "\n",
    "dataset = ds.dataset(pa.Table.from_pandas(df).to_batches())\n",
    "\n",
    "loader = DataFrameLoader(df, page_content_column=\"content\")\n",
    "data = loader.load()"
   ]
  },
  {
   "cell_type": "markdown",
   "metadata": {},
   "source": [
    "## Load documents"
   ]
  },
  {
   "cell_type": "code",
   "execution_count": 6,
   "metadata": {},
   "outputs": [],
   "source": [
    "from langchain_text_splitters import RecursiveCharacterTextSplitter\n",
    "\n",
    "CHUNK_SIZE = 1024\n",
    "\n",
    "text_splitter = RecursiveCharacterTextSplitter(chunk_size=CHUNK_SIZE, chunk_overlap=int(CHUNK_SIZE/10))\n",
    "all_splits = text_splitter.split_documents(data)"
   ]
  },
  {
   "cell_type": "markdown",
   "metadata": {},
   "source": [
    "## Create vector store"
   ]
  },
  {
   "cell_type": "code",
   "execution_count": 8,
   "metadata": {},
   "outputs": [
    {
     "name": "stderr",
     "output_type": "stream",
     "text": [
      "/tmp/ipykernel_2778182/2830179981.py:5: LangChainDeprecationWarning: The class `HuggingFaceEmbeddings` was deprecated in LangChain 0.2.2 and will be removed in 1.0. An updated version of the class exists in the :class:`~langchain-huggingface package and should be used instead. To use it run `pip install -U :class:`~langchain-huggingface` and import as `from :class:`~langchain_huggingface import HuggingFaceEmbeddings``.\n",
      "  local_embeddings = HuggingFaceEmbeddings(\n",
      "You try to use a model that was created with version 3.0.1, however, your version is 2.7.0. This might cause unexpected behavior or errors. In that case, try to update to the latest version.\n",
      "\n",
      "\n",
      "\n",
      "/home/andrei/anaconda3/envs/Ferdi_env_2/lib/python3.10/site-packages/huggingface_hub/file_download.py:1132: FutureWarning: `resume_download` is deprecated and will be removed in version 1.0.0. Downloads always resume when possible. If you want to force a new download, use `force_download=True`.\n",
      "  warnings.warn(\n",
      "Special tokens have been added in the vocabulary, make sure the associated word embeddings are fine-tuned or trained.\n"
     ]
    }
   ],
   "source": [
    "from langchain_community.embeddings import HuggingFaceEmbeddings\n",
    "\n",
    "EMBEDDING_MODEL_NAME = \"dunzhang/stella_en_1.5B_v5\"\n",
    "\n",
    "local_embeddings = HuggingFaceEmbeddings(\n",
    "    model_name=EMBEDDING_MODEL_NAME,\n",
    "    multi_process=True,\n",
    "    model_kwargs={\"device\": \"cuda\"},\n",
    "    encode_kwargs={\"normalize_embeddings\": True},  # Set `True` for cosine similarity\n",
    ")"
   ]
  },
  {
   "cell_type": "code",
   "execution_count": 15,
   "metadata": {},
   "outputs": [],
   "source": [
    "from langchain.vectorstores import FAISS\n",
    "\n",
    "# vectorstore = FAISS.from_documents(\n",
    "#     all_splits, \n",
    "#     embedding=local_embeddings\n",
    "#     )\n",
    "\n",
    "# vectorstore.save_local(folder_path=f\"./FAISS_MLI Mali_{CHUNK_SIZE}\")\n",
    "\n",
    "vectorstore = FAISS.load_local(\n",
    "    \"/home/andrei/Ferdi_LLM/misc_notebooks/lanchain_storage_MLI Mali\", \n",
    "    embeddings=local_embeddings, \n",
    "    allow_dangerous_deserialization=True)"
   ]
  },
  {
   "cell_type": "code",
   "execution_count": 16,
   "metadata": {},
   "outputs": [],
   "source": [
    "from langchain_ollama import ChatOllama\n",
    "\n",
    "model = ChatOllama(\n",
    "    model=\"llama3.1\",\n",
    "    temperature=0,\n",
    ")"
   ]
  },
  {
   "cell_type": "markdown",
   "metadata": {},
   "source": [
    "### Naive retriever approach"
   ]
  },
  {
   "cell_type": "markdown",
   "metadata": {},
   "source": [
    "#### Retriever"
   ]
  },
  {
   "cell_type": "code",
   "execution_count": 51,
   "metadata": {},
   "outputs": [],
   "source": [
    "# naive_retriever = vectorstore.as_retriever(search_kwargs={ \"k\" : 10})\n",
    "naive_retriever = vectorstore.as_retriever(search_kwargs={\"score_threshold\": 0.5}, search_type=\"similarity_score_threshold\")\n",
    "# naive_retriever = vectorstore.as_retriever(search_type=\"mmr\")\n"
   ]
  },
  {
   "cell_type": "markdown",
   "metadata": {},
   "source": [
    "#### Augument & Generate"
   ]
  },
  {
   "cell_type": "code",
   "execution_count": 52,
   "metadata": {},
   "outputs": [],
   "source": [
    "from langchain_core.prompts import ChatPromptTemplate\n",
    "\n",
    "# Augmented\n",
    "TEMPLATE = \"\"\"\\\n",
    "You are an intelligent assistant. \n",
    "Based on the knowledge provided below, retrieve the relevant information, summarize it and then answer the question.\n",
    "If you don't know the answer, reply with \"I don't know.\"\n",
    "\n",
    "Consider these definitions:\n",
    "'_Gen_CGI': 'Code général des impôts', '_Gen_IT': 'Impôt sur le revenu', '_Gen_VAT': 'Taxe sur la valeur ajoutée', '_Gen_NHI': 'Assurance maladie nationale', '_Gen_LF': 'Loi de finances', '_Invest_CI': 'Code des investissement', '_Min_CM': 'Code minier', '_Pétrol_CP': 'Code pétrolier', '_Gaz_CG': 'Code gazier', '_Forest_CF': 'Code forestier'\n",
    "\n",
    "Question:\n",
    "{question}\n",
    "\n",
    "Here is the knowledge base:\n",
    "{knowledge}\n",
    "The above is the knowledge base.\n",
    "\"\"\"\n",
    "\n",
    "rag_prompt = ChatPromptTemplate.from_template(TEMPLATE)\n",
    "\n",
    "\n",
    "# Generation\n",
    "chat_model = model"
   ]
  },
  {
   "cell_type": "markdown",
   "metadata": {},
   "source": [
    "#### RAG put together"
   ]
  },
  {
   "cell_type": "code",
   "execution_count": 53,
   "metadata": {},
   "outputs": [],
   "source": [
    "from langchain_core.runnables import RunnablePassthrough, RunnableParallel\n",
    "from operator import itemgetter\n",
    "from langchain_core.output_parsers import StrOutputParser\n",
    "\n",
    "setup_and_retrieval = RunnableParallel({\"question\": RunnablePassthrough(), \"knowledge\": naive_retriever })\n",
    "output_parser = StrOutputParser()\n",
    "\n",
    "\n",
    "naive_retrieval_chain = setup_and_retrieval \\\n",
    "                        | rag_prompt \\\n",
    "                        | chat_model \\\n",
    "                        | output_parser"
   ]
  },
  {
   "cell_type": "code",
   "execution_count": 54,
   "metadata": {},
   "outputs": [
    {
     "name": "stderr",
     "output_type": "stream",
     "text": [
      "/home/andrei/anaconda3/envs/Ferdi_env_2/lib/python3.10/site-packages/langchain_core/vectorstores/base.py:1042: UserWarning: Relevance scores must be between 0 and 1, got [(Document(metadata={'title': 'img_JO 1996 n°011 (15.06.1996) (SGG)', 'country': 'MLI Mali', 'start_index': 10221}, page_content=\"4 juin 1996 arrêté N°96-0907/MFC-SG portant nomination d'un Agent Comptable à l'Office du Niger....p645\\n\\nMINISTERE DE L'EMPLOI DE LA FONCTION PUBLIQUE ET DU TRAVAIL\\n\\n14 mai 1996 arrêté N°96-0772/MEFPT-SG portant radiation....p645\\n\\nMINISTERE DU DEVELOPPEMENT RURAL ET DE L'ENVIRONNEMENT\\n\\n17 mai 1996 arrêté N°96-0778/MDRE-SG portant composition et fonctionnement des commissions régionales chargées de définir les critères relatifs à la fixation des quotas d'exploitation forestière....p645\\n\\n23 mai 1996 arrêté N°96-0818/MDRE-SG portant nomination du Directeur Adjoint à l'Office de la Haute Vallée du Niger....p645\\n\\narrêté N°96-0819/MDRE-SG portant nomination d'un chef de Division à la Direction Nationale de l'Appui au Monde Rural....p645 ACTES DE LA REPUBLIQUE\\n\\nLOI\\n\\nN°96-029/ par loi du date du 12 juin 1996\\n\\nL'Assemblée Nationale a délibéré et adopté en sa séance du 10 mai 1996;\\nLe Président de la République promulgue la loi dont la teneur suit:\\n\\nARTICLE 1ER: Il est créé un Etablissement Public à caractère Administratif doté de la personnalité morale et de l'autonomie financière, dénommé Office Malien de l'Habitat, en abrégé OMH.\\n\\nARTICLE 2: L'Office Malien de l'Habitat a pour mission de mettre en oeuvre la politique nationale de l'habitat définie par le Gouvernement. A cet effet, il est chargé notamment:\\n- d'apporter son concours à l'élaboration et à l'exécution des programmes d'habitat;\\n- de promouvoir le financement de l'habitat;\\n- d'apporter son concours à la mise en place de mécanismes appropriés pour le financement de l'habitat;\\n- de promouvoir la recherche dans le domaine de l'habitat;\\n- de promouvoir et de vulgariser les matériaux locaux de construction;\\n- d'apporter son concours à l'amélioration de l'environnement et du cadre de vie;\\n- d'assurer le financement des infrastructures et équipements de base relatifs à l'habitat d'opérations Socio-Economique.\\n\\nCHAPITRE II: DE LA DOTATION INITIALE ET DES RESSOURCES\\n\\nARTICLE 3: L'Office Malien de l'Habitat reçoit en dotation initiale de l'Etat l'ensemble des biens meubles et immeubles de l'actuel Fonds National du Logement et tous les avantages à lui consentis à la date de la présente loi.\\n\\nARTICLE 4: Les ressources de l'Office Malien de l'Habitat sont constituées par:\\n- les subventions de l'Etat;\\n- le produit de la taxe-emploi;\\n- le produit de la taxe sur les plus-values immobilières;\\n- le produit de la taxe sur les permis de construire;\\n- les produits financiers;\\n- les dons, legs et subventions;\\n- toutes autres ressources mises à sa disposition;\\n- les emprunts contractés auprès d'organismes financiers nationaux ou étrangers;\\n- les produits des placements de l'Office;\\n- les produits de prestation;\\n- les revenus provenant de la vente de tous biens de l'Office;\\n- les recettes diverses;\\n- les subventions autres que celles de l'Etat et les collectes internationales;\\n- le produit des participations prises dans les sociétés;\\n- les recettes diverses.\\n\\nCHAPITRE III: DES DISPOSITIONS FINALES\\n\\nARTICLE 5: L'organisation et les modalités de fonctionnement de l'Office Malien de l'Habitat sont fixées par décret pris en Conseil des Ministres.\"), -123.92379846595084), (Document(metadata={'title': 'img_JO 2010 Spécial n°002 (10.06.2010) (SGG)', 'country': 'MLI Mali', 'start_index': 0}, page_content=\"SPECIAL N°02\\n\\n10 Juin 2010\\n\\nJOURNAL OFFICIEL\\n\\nDE LA\\n\\nREPUBLIQUE DU MALI\\n\\nLOI N°10-014/DU 31 MAI 2010 PORTANT MODIFICATION DE LA LOI N°06-067 DU 29 DECEMBRE 2006 PORTANT CODE GENERAL DES IMPOTS..............................................page2\\n\\nLOI N°10-015/DU 31 MAI 2010 PORTANT MODIFICATION DE LA LOI N°06-068 DU 29 DECEMBRE 2006 PORTANT LIVRE DE PROCEDURES \\nFISCALES..............................................page15\\n\\nSECRETARIAT GENERAL DU GOUVERNEMENT LOI N° 10-014/DU 31 MAI 2010 PORTANT MODIFICATION DE LA LOI N°06-067 DU 29 DECEMBRE 2006 PORTANT CODE GENERAL DES IMPOTS\\n\\nL'Assemblée Nationale a délibéré et adopté en sa séance du 27 mai 2010\\n\\nLe Président de la République promulgue la loi dont la teneur suit :\\n\\nArticle unique: Les articles 47, 49, 51, 55, 74, 80, 81, 87, 182, 226, 227 et 270 de la Loi N° 06 – 067 du 29 décembre 2006 sont modifiés ainsi qu'il suit :\\n\\nArticle 47 (nouveau):\\n\\nSont exemptes de l’impôt :\\n\\n1) les sociétés coopératives de consommation qui se bornent à grouper les ordres de leurs membres adhérents et à distribuer dans leurs magasins de dépôt les denrées, produits ou marchandises qui ont fait l’objet de ces commandes ;\\n2) les offices d’habitations économiques ;\\n3) les caisses de crédit agricole mutuel régies par les textes en vigueur en la matière ;\\n4) les sociétés de prévoyances, sociétés coopératives agricoles, associations d’intérêt général agricole, sociétés d’assurances et de réassurances mutuelles agricoles ;\\n5) les sociétés de secours mutuels ;\\n6) les établissements publics à but non lucratif de l’Etat ou des collectivités décentralisées ;\\n7) les collectivités locales, les syndicats de communes ainsi que leurs régies de services publics à but non lucratif ;\\n8) les chambres de commerce, d’industrie, d’artisanat, d’agriculture et des métiers lorsqu’elles ne livrent pas à des activités de nature commerciale ;\\n9) les associations et organismes sans but lucratif légalement constitués et dont la gestion est désintéressée ;\\n10) les sociétés d’investissement à capital fixe et variable pour la partie des bénéfices provenant des produits nets de leur portefeuille ou des plus-values qu’elles réalisent sur la vente des titres ou des parts sociales faisant partie de ce portefeuille.\\n\\nArticle 49 (nouveau):\\n\\nLe bénéfice imposable est le bénéfice net déterminé d’après les résultats d’ensemble des opérations de toute nature effectuées par l’entreprise, y compris, notamment, les cessions d’éléments quelconques de l’actif, soit en cours, soit en fin d’exploitation.\\n\\nLe bénéfice est établi sous déduction de toutes les charges remplissant les conditions suivantes :\\n\\n- être exposées dans l’intérêt direct de l’entreprise ou se rattacher à la gestion normale de l’entreprise ;\\n- correspondre à une charge effective et être appuyée de justifications suffisantes ;\\n- se traduire par une diminution de l’actif net de l’entreprise ;\\n- être comprises dans les charges de l’exercice au cours duquel elles ont été engagées ;\\n- concourir à la formation d’un produit non exonéré d’impôt sur le bénéfice.\\n\\nArticle 51 (nouveau) :\"), -133.61536715164323), (Document(metadata={'title': 'img_JO 1996 n°012 (30.06.1996) (SGG)', 'country': 'MLI Mali', 'start_index': 11495}, page_content=\"19 juin 1996 arrêté N°96-1002/MEFPT/DNFPP/D4-2 portant\\nradiation..................................................................p475\\n\\n27 juin 1996 arrêté N°96-1025/MEFPT/DNFPP/D4-1 portant\\nradiation..................................................................p475\\n\\narrêté N°96-1026/MEFPT/DNFPP/D4-2 portant\\nradiation..................................................................p475\\n\\nMINISTERE DU DEVELOPPEMENT RURAL ET DE L'EN-\\nVIRONNEMENT\\n\\n26 juin 1996 arrêté N°96-1023/MDRE-SG déterminant les\\ntypes et modèles de coupon, les modalités\\nd'attribution, de délivrance et de contrôle des\\ncoupons de transport de bois..................................p475 ACTES DE LA REPUBLIQUE DU MALI\\n\\nDECRETS - ARRETES\\n\\nPRESIDENCE DE LA REPUBLIQUE\\n\\nN°96-171/P-RM par décret en date du 11 juin 1996\\n\\nARTICLE 1er : Sont abrogées les dispositions du Décret N°93-195/P-RM du 11 juin 1993 portant nomination de Conseillers Techniques à la Présidence de la République en ce qui concerne Monsieur Hamza MAHAMOUD, N°MLE 206.815, Administrateur Civil.\\n\\nARTICLE 2 : Le présent décret sera enregistré et publié au Journal Officiel.\\n\\nDécret N°96-172/PM-RM instituant un Parlement des Enfants du Mali.\\n\\nLe Premier Ministre,\\n\\nVu la Constitution ;\\nVu le plan d'Action National pour la Survie, le Développement et la Protection de l'Enfant ;\\nVu le Décret N°94-209/PM-RM du 07 juin 1994 portant création d'une Commission Interministérielle pour le suivi et l'évaluation du Plan National d'Action pour la Survie, le Développement et la Protection de l'Enfant (1992-2000) ;\\nVu le Décret N°94-065/P-RM du 04 février 1994 portant nomination d'un Premier ministre ;\\nVu le Décret N°94-333/P-RM du 25 octobre 1994 portant nomination des membres du Gouvernement, modifié par le Décret N°95-097/P-RM du 27 février 1995 ;\\nVu les résolutions de la 2ème session du Parlement des Enfants du Mali tenue le 1er juillet 1995 à Bamako ;\\n\\nDECRETE :\\n\\nARTICLE 1er : Il est institué un Parlement des Enfants du Mali dont le siège est fixé à Bamako.\\n\\nARTICLE 2 : Le Parlement des Enfants du Mali est une tribune de libre expression des enfants du Mali qui a pour but d'assister les pouvoirs publics dans la mise en œuvre du Plan d'Action Nationale pour la Survie, le Développement et la Protection de l'Enfant adopté par le Gouvernement.\\n\\nARTICLE 3 : Le Parlement des Enfants du Mali a pour mission :\\n-d'informer et de sensibiliser les enfants du Mali sur leurs droits ;\\n-de promouvoir la participation des enfants à la vie civique et de favoriser l'expression d'une véritable solidarité nationale et internationale pour l'amélioration du bien-être physique, mental, moral et économique des enfants du Mali et du Monde.\\nA ce titre :\\n-il contribue à la mobilisation des enfants autour des programmes en faveur de l'enfance ;\\n-il sensibilise et interpelle les autorités et les acteurs de la société civile impliqués dans la mise en œuvre du Plan d'Action Nationale pour la Survie, le Développement et la Protection de l'Enfant.\"), -135.35972068732482), (Document(metadata={'title': 'img_JO 1995 n°018 (30.09.1995) (SGG)', 'country': 'MLI Mali', 'start_index': 0}, page_content=\"# JOURNAL OFFICIEL\\nde la République du Mali  \\nParaissant deux fois par mois\\n\\n## SOMMAIRE GENERAL\\n\\n**Actes de la République**  684\\n\\n**Annonces & Communications**  720\\n\\n---\\n\\n**SECRETARIAT GENERAL DU GOUVERNEMENT**  \\nPrix 400 FCFA **SOMMAIRE ANALYTIQUE**\\n\\n**ACTES DE LA REPUBLIQUE DU MALI**\\n\\n**L O I S**\\n\\n25 août 1995\\n- Loi N°95-069 portant statut des huissiers de Justice.\\n- Loi N°95-070 portant modification du code de la nationalité malienne.\\n- Loi N°95-071 fixant le régime de la retraite parlementaire.\\n- Loi N°95-072 portant modification des articles 730 du code général des impôts.\\n\\n**DECRETS - ARRETES**\\n\\n**PRESIDENCE DE LA REPUBLIQUE**\\n\\n16 fév. 1995\\n- Décret N°95-076/PG-RM portant clas\\xad sement d'un Ambassadeur.\\n\\n22 fév. 1995\\n- Décret N°95-082/P-RM fixant les conditions d'exploitation de certains massifs fores\\xad tiers de la 2e région adminis\\xadtrative (sikasso) - Nienendougou.\\n\\n21 août 1995\\n- Décret N°95-168/P-RM portant nomination d'un notaire à segou.\\n\\n22 juin 1995\\n- Décret N°95-169/P-RM portant détachement à un agent militaire.\\n\\n**PRIMATURE**\\n\\n17 août 1995\\n- Arrêté N°95-1728/PM-RH abrogeant l'arrêté N°4-767/PM-RH du 6 mai 1994 portant nomination d'un Chef de service à la Direction Administrrative et Financière.\\n\\n**MINISTERE DES TRAVAUX PUBLICS ET DES TRANSPORTS**\\n\\n11 août 1995\\n- Arrêté N°95-1638/MTP.T.S.0 portant composition de la Commission Nationale des Energies Nouvelles et Renouvelables.\\n- Arrêté N°95-1643/MPT.S.0 portant composition de la Commission Interdépartementale de l'Information Routière en Milieu.\\n\\n**MINISTERE DE LA SANTE, DE LA SOLIDARITE ET DES PERSONNES AGEES**\\n\\n3 août 1995\\n- Arrêté N°95-1740/MS.PA.CAB por\\xad tant création d'une commission de contrôle des tenus sol\\xaddes.\\n\\n**MINISTERE DE L’INDUSTRIE, DE L’ARTISANAT ET DU TOURISME**\\n\\n18 janv. 1995\\n- Arrêté N°95-0135/MIAT.CAB portant nomination de membres du conseil d'administration du Centre d'études et de recherches sur les Tra\\xadditions et Langues Nationales du Mali (CERTLN). MINISTERE DES FORCES ARMÉES ET DES ANCIENS COMBATTANTS\\n\\n11 août 1995  \\n**arrêté n°95-1646/MFAC-SG** abrogeant et remplaçant l’arrêté n°94-1233/MG.CAB du 15 mars 1994 portant nomination à la Direction du Commissariat des Armées. (p.701)\\n\\n18 août 1995   \\n**arrêté n°95-1721/MFC-SG** portant nomination de M. DAOU Doukara en qualité de contrôleur. (p.707)\\n\\n**arrêté portant** réintégration dans l’armée (MFC-SG) d’une avocate à compter du 1er août 1995. (p.707)\"), -137.32949040453335)]\n",
      "  self.vectorstore.similarity_search_with_relevance_scores(\n",
      "No relevant docs were retrieved using the relevance score threshold 0.5\n"
     ]
    }
   ],
   "source": [
    "definitions = {'_Gen_CGI': 'Code général des impôts', '_Gen_IT': 'Impôt sur le revenu', '_Gen_VAT': 'Taxe sur la valeur ajoutée', '_Gen_NHI': 'Assurance maladie nationale', '_Gen_LF': 'Loi de finances', '_Invest_CI': 'Code des investissement', '_Min_CM': 'Code minier', '_Pétrol_CP': 'Code pétrolier', '_Gaz_CG': 'Code gazier', '_Forest_CF': 'Code forestier'}\n",
    "doc_name = \"Loi n°1996-030 (12.06.1996) Office malien de l_habitat 1996 (SGG)\"\n",
    "\n",
    "response = naive_retrieval_chain.invoke(\n",
    "    f\"\"\"Consider the contents of the document with this title '{doc_name}'. In which of these categories : _Gen_CGI, _Gen_IT, _Gen_VAT, _Gen_NHI, _Gen_LF, _Invest_CI, _Min_CM, _Pétrol_CP, _Gaz_CG, _Forest_CF, is it part of ? Answer with a valid category. In the final answer, keep the category only, even if it's none.\n",
    "    \"\"\"\n",
    "    )"
   ]
  },
  {
   "cell_type": "code",
   "execution_count": 55,
   "metadata": {},
   "outputs": [
    {
     "name": "stdout",
     "output_type": "stream",
     "text": [
      "I don't know.\n"
     ]
    }
   ],
   "source": [
    "print(response)"
   ]
  },
  {
   "cell_type": "markdown",
   "metadata": {},
   "source": [
    "### Self Query Retriever approach"
   ]
  },
  {
   "cell_type": "code",
   "execution_count": 56,
   "metadata": {},
   "outputs": [],
   "source": [
    "from langchain.chains.query_constructor.base import AttributeInfo\n",
    "from langchain.retrievers.self_query.base import SelfQueryRetriever\n",
    "from langchain.retrievers.self_query.chroma import ChromaTranslator\n",
    "\n",
    "\n",
    "\n",
    "metadata_field_info = [\n",
    "    AttributeInfo(\n",
    "        name=\"Document_Title\",\n",
    "        description=\"The title of the document\",\n",
    "        type=\"string\",\n",
    "    ),\n",
    "    AttributeInfo(\n",
    "        name=\"Country\",\n",
    "        description=\"The country of the document\",\n",
    "        type=\"string\",\n",
    "    ),\n",
    "    AttributeInfo(\n",
    "        name=\"Law_Type\",\n",
    "        description=\"The law type of the document\",\n",
    "        type=\"string\",\n",
    "    )\n",
    "]"
   ]
  },
  {
   "cell_type": "code",
   "execution_count": 48,
   "metadata": {},
   "outputs": [
    {
     "data": {
      "text/plain": [
       "\"Il semble que vous avez fourni une liste de décrets du Mali publiés en 2006, plutôt qu'un texte spécifique à analyser. Je vais donc essayer de répondre à votre question générale sur l'importance des décrets dans le système juridique malien.\\n\\nLes décrets sont des actes normatifs pris par les organes exécutif du Mali (le Président de la République et le Premier Ministre) pour mettre en œuvre des lois ou règlements. Ils ont une portée spécifique et visent à régir des aspects particuliers de l'activité publique.\\n\\nDans le contexte de votre question, les décrets peuvent avoir plusieurs fonctions :\\n\\n1. **Interprétation des lois** : Les décrets peuvent être utilisés pour interpréter des dispositions de loi, en leur donnant une portée plus précise ou en les adaptant à des situations spécifiques.\\n2. **Mise en œuvre de la loi** : Les décrets peuvent être pris pour mettre en œuvre les dispositions d'une loi, en fixant des règles ou des procédures nécessaires à sa mise en pratique.\\n3. **Création de droits et obligations** : Les décrets peuvent créer de nouveaux droits et obligations pour les citoyens malien(ne)s, comme par exemple la création de zones franches (DECRET N°06-483/P-RM).\\n4. **Gestion des ressources publiques** : Les décrets peuvent être utilisés pour gérer des ressources publiques, comme l'affectation de parcelles de terrain à des ministères (DECRETS N°04-410/P-RM et N°06-485/P-RM).\\n\\nEn résumé, les décrets jouent un rôle important dans le système juridique malien en permettant la mise en œuvre des lois, l'interprétation de dispositions légales, la création de droits et obligations, ainsi que la gestion des ressources publiques.\""
      ]
     },
     "execution_count": 48,
     "metadata": {},
     "output_type": "execute_result"
    }
   ],
   "source": [
    "from langchain_core.output_parsers import StrOutputParser\n",
    "from langchain_core.prompts import ChatPromptTemplate\n",
    "\n",
    "prompt = ChatPromptTemplate.from_template(\n",
    "    \"Summarize the main themes in these retrieved docs: {docs}\"\n",
    ")\n",
    "\n",
    "\n",
    "# Convert loaded documents into strings by concatenating their content\n",
    "# and ignoring metadata\n",
    "def format_docs(docs):\n",
    "    return \"\\n\\n\".join(doc.page_content for doc in docs)\n",
    "\n",
    "doc_name = \"Décret n°1996-179 (19.06.1996) Application Office malien de l_habitat 1996 (SGG)\"\n",
    "\n",
    "chain = {\"docs\": format_docs} | prompt | model | StrOutputParser()\n",
    "\n",
    "question = f\"Based on the content and title of this text {df[df.title == doc_name]['content'].iloc[0]}, what's the year it was issued? Keep the year only.\"\n",
    "\n",
    "docs = vectorstore.similarity_search(question)\n",
    "\n",
    "chain.invoke(docs)"
   ]
  },
  {
   "cell_type": "code",
   "execution_count": 49,
   "metadata": {},
   "outputs": [
    {
     "data": {
      "text/plain": [
       "[Document(metadata={'title': 'Décret n°1996-179 (19.06.1996) Application Office malien de l_habitat 1996 (SGG)', 'country': 'MLI Mali', 'start_index': 0}, page_content='Décret N°96-179/P-RM fixant l\\x92organisation et les modalités de fonctionnement de l\\x92office malien de l\\x92habitat.\\n\\nLe Président de la République,\\n\\nVu la Constitution,\\n\\nVu l\\x92Ordonnance N°46 Bis/PGP du 16 novembre 1961 portant règlement financier en République du Mali ;\\n\\nVu l\\x92Ordonnance N°10/CMLN du 18 mars 1971 fixant le taux de la «taxe-logement» ;\\n\\nVu la Loi N°94-009 du 22 mars 1994 portant principes fondamentaux de la création, de l\\x92organisation, de la gestion et\\ndu contrôle des services publics ;\\n\\nVu la Loi N°90-110/AN-RM du 18 octobre 1990 portant principes fondamentaux de la création, de l\\x92organisation et du\\nfonctionnement des Etablissements Publics à caractère Administratif ;\\n\\nVu la Loi N°96-030 du 12 juin 1996 portant création de l\\x92Office Malien de l\\x92Habitat ;\\n\\nVu le Décret N°94-065/P-RM du 04 février 1994 portant nomination d\\x92un Premier ministre ;\\n\\nVu le Décret N°94-333/P-RM du 25 octobre 1994 portant nomination des membres du Gouvernement, modifié par le\\nDécret N°95-097/P-RM du 27 février 1995 ;\\n\\nStatuant en Conseil des Ministres,\\n\\nDECRETE :\\n\\nTITRE I : DES DISPOSITIONS GENERALES\\n\\nARTICLE 1er : Le présent décret fixe l\\x92organisation et les modalités de fonctionnement de l\\x92Office Malien de\\nl\\x92Habitat.\\n\\nARTICLE 2 : Le siège de l\\x92Office Malien de l\\x92Habitat est fixé à Bamako. Il peut être transféré en tout autre lieu de la\\nRépublique.\\n\\nARTICLE 3 : L\\x92office Malien de l\\x92Habitat est placé sous la tutelle du ministre chargé de l\\x92Habitat.\\n\\nTITRE II : DE L\\x92ADMINISTRATION ET DE LA TUTELLE\\n\\nCHAPITRE I : DU CONSEIL D\\x92ADMINISTRATION\\n\\nSECTION I : DES ATTRIBUTIONS\\n\\nARTICLE 4 : Le Conseil d\\x92Administration exerce, dans les limites des lois et règlements en vigueur, les attributions\\nspécifiques suivantes :\\n\\n-examiner et arrêter le budget annuel de l\\x92Office Malien de l\\x92Habitat ;\\n-approuver les projets et programmes de développement général de l\\x92Office Malien de l\\x92Habitat ;\\n-déterminer annuellement, en termes quantitatifs, les objectifs à at\\nteindre par rapport aux objectifs globaux assignés à l\\x92Office Malien de l\\x92Habitat ;\\n\\n-délibérer sur les investissements à réaliser en fonction de ces objectifs et sur les programmes d\\x92équipement ;\\n-approuver les règles d\\x92avance ou de recettes ;\\n-examiner chaque année, avant transmission à l\\x92autorité de tutelle, les bilans de l\\x92exercice précédent, les états\\nd\\x92inventaire et le rapport annuel d\\x92activité du Directeur Général ;\\n\\n-délibérer sur les emprunts, les acquisitions, dispositions ou aliénations de biens, meubles et immeubles appartenant à\\nl\\x92Office Malien de l\\x92Habitat;\\n\\n-définir dans le cadre des missions prescrites et des objectifs assignés par le Gouvernement, les orientations de la\\npolitique générale de l\\x92Office Malien de l\\x92Habitat ;\\n\\n-fixer l\\x92organisation interne, le cadre organique, les règles particulières relatives au fonctionnement et à\\nl\\x92administration de l\\x92Office Malien de l\\x92Habitat.'),\n",
       " Document(metadata={'title': 'img_JO 1996 n°011 (15.06.1996) (SGG)', 'country': 'MLI Mali', 'start_index': -1}, page_content=\"CHAPITRE III: DES DISPOSITIONS FINALES\\n\\nARTICLE 5: L'organisation et les modalités de fonctionnement de l'Office Malien de l'Habitat sont fixées par décret pris en Conseil des Ministres.\\n\\nARTICLE 6: La présente loi abroge toutes dispositions antérieures contraires, notamment la LOI N°93-060/AN-RM du 8 septembre 1993 portant création du Fonds National du Logement.\\n\\nBamako, le 12 juin 1996\\n\\nLe Président de la République,\\nAlpha Oumar KONARE\\n\\nN°96-030/ par loi du date du 12 juin 1996\\n\\nL'Assemblée Nationale a délibéré et adopté en sa séance du 14 mai 1996;\\nLe Président de la République promulgue la loi dont la teneur suit:\\n\\nARTICLE 1ER: L'Office du Développement Intégré du Mali Ouest est supprimé.\\n\\nARTICLE 2: La présente loi abroge l'Ordonnance N°79-10/CMLN du 25 janvier 1979 portant création de l'Office du Développement Intégré du Mali Ouest.\\n\\nBamako, le 12 juin 1996\\n\\nLe Président de la République,\\nAlpha Oumar KONARE\\n\\nN°96-032/ par loi du date du 12 juin 1996\\n\\nL'Assemblée Nationale a délibéré et adopté en sa séance du 14 mai 1996;\\nLe Président de la République promulgue la loi dont la teneur suit:\\n\\nARTICLE 1ER: La présente loi fixe le Statut Général des Etablissements Publics à caractère Professionnel.\\n\\nTITRE PREMIER: DES DISPOSITIONS COMMUNES\\n\\nCHAPITRE 1: DE LA DEFINITION, DE LA CREATION, DE LA MISSION\\n\\nARTICLE 2: L'Etablissement Public à caractère Professionnel est un organisme personnalisé chargé de l'organisation et de la représentation d'une profession ou d'un groupe de professions. ARTICLE 1 : L'Etablissement Public à caractère Professionnel est doté d'un patrimoine propre et de l'autonomie financière.\\n\\nARTICLE 2 : L'Etablissement Public à caractère Professionnel est créé par la loi.\\n\\nARTICLE 3 : L'Etablissement Public à caractère Professionnel est placé sous la tutelle du ministre chargé :\\n- du secteur principal de la mission ;\\n- ou du secteur dont relève son activité, s'il s'agit d'un établissement à vocation intersectorielle ;\\n- le ministère chargé de l'Etat ;\\n- des organes délibérants de gestion.\\n\\nARTICLE 4 : L'Etablissement Public à caractère Professionnel est organisé par des statuts qui lui sont spécifiques. L'autorité de tutelle désigneront notamment les organes suivants :\\n- un organe délibérant dont la dénomination peut varier en fonction de la nature de l'Etablissement Public à caractère Professionnel et qui bureau un organe exécutif.\\n\\nARTICLE 5 : Un décret pris en Conseil des Ministres fixe l'organisation et les modalités de fonctionnement de l'Etablissement Public à caractère Professionnel, la composition, les attributions et le mode de désignation des membres des différents organes.\\n\\nARTICLE 7 : L'Etablissement Public à caractère Professionnel établit son règlement intérieur.\\n\\nARTICLE 8 : L'Etablissement Public à caractère Professionnel peut être représenté au niveau des régions, collectivités territoriales.\\n\\nARTICLE 9 : L'Etablissement Public à caractère Professionnel est chargé :\\n- d'assurer des actes de gestion courante parfois déléguées aux les organismes rattachés à la profession ;\\n- d'assurer le service de l'information et toutes les activités relevant du secteur dont il relève ;\\n- d'assurer une mission de service public et administratif dans le secteur dont il relève.\"),\n",
       " Document(metadata={'title': 'img_JO 1991 n°020 (31.10.1991) (SGG)', 'country': 'MLI Mali', 'start_index': 79323}, page_content=\"Article 2: Le présent décret abroge toutes dispositions antérieures contraires, et sera enregistré et publié au Journal Officiel. **DECRET N°91-310/PM-RM FIXANT L'ORGANISATION ET LES MODALITES DE FONCTIONNEMENT DE L'OFFICE NATIONAL DE LA MAIN D'OEUVRE ET DE L'EMPLOI**\\n\\n**LE PREMIER MINISTRE**\\n\\nVU l'Acte Fondamental N°l/CTSP du 31 Mars 1991  \\nVU l'Ordonnance N°91-066/CTSP du 30 Septembre 1991 portant création de l'Office National de la Main-d'Oeuvre et de l'Emploi.  \\nVU la Loi N°67-6?7/AN-RM du 9 Août 1962 instituant un Code du Travail en République du Mali, modifiée par la Loi N°88-35/AN-RM du 18 Février 1988.  \\nVU le Décret N°91-001/P-CTSP du 05 Avril 1991 portant nomination d'un Premier Ministre.  \\nVU le Décret N°91-208/P-CTSP du 26 Août 1991 portant nomination de Membres du Gouvernement.  \\n\\n**CHAPITRE I : DISPOSITIONS GENERALES**  \\n**ARTICLE 1ER :** L'Office National de la Main-d'Oeuvre et de l'Emploi est organisé conformément aux dispositions du présent décret.  \\n**ARTICLE 2 :** L'Office National de la Main-d'Oeuvre et de l'Emploi est placé sous la tutelle du Ministre chargé du Travail.  \\n**ARTICLE 3 :** Le siège de l'Office National de la Main-d'Oeuvre et de l'Emploi est fixé à Bamako.\\n\\n**CHAPITRE II : DU CONSEIL D'ADMINISTRATION**  \\n**ARTICLE 4 :** Le Conseil d'Administration de l'Office National de la Main-d'Oeuvre et de l'Emploi comprend douze (12) membres: \\n- Quatre (4) représentants des organisations syndicales de travailleurs.\\n- Quatre (4) représentants de la Fédération Nationale des Employeurs du Mali.\\n- Le représentant du Ministre Chargé du Travail.\\n- Le représentant du Ministre Chargé des Finances.\\n- Le Directeur National de l'Emploi, du Travail et de la Sécurité Sociale.\\n- Le représentant du personnel de l'Office National de la Main-d'Oeuvre et de l'Emploi.\\n\\n**ARTICLE 5 :** Le Conseil d'Administration exerce, dans les limites des lois et règlements en vigueur les attributions suivantes: \\n- la détermination annuelle en termes quantitatifs des objectifs à atteindre par l'Office:\\n- l'adoption du budget annuel et le contrôle de son exécution;\\n- l'approbation des comptes de l'exercice financier précédent:\\n- l'autorisation des emprunts d'un montant supérieur à une limite déterminée par le règlement en vigueur;\\n- l'autorisation de la signature par le Directeur Général de tous les convents et contrats engageant l'Office pour une durée qui excède dix ans;\\n- la détermination des structures de l'Office et de son schéma directeur de développement à moyen terme:\\n- la détermination Les acquisitions des équipements d'une valeur supérieure à une limite déterminée par le règlement en vigueur;\\n- Le consentement des hypothèques et autres garanties immobilières sur les biens de l'Office: l'autorisation des transactions immobilières.\\n  \\n**CHAPITRE III : DU DIRECTEUR GENERAL**  \\n**ARTICLE 6 :** Le Directeur Général de l'Office est Chargé de l'application des lois et règlements relatifs à la Main-d'Oeuvre et il coordonne anime l'activité de l'Office.\"),\n",
       " Document(metadata={'title': 'img_JO 2006 n°036 (31.12.2006) (SGG)', 'country': 'MLI Mali', 'start_index': 2893}, page_content=\"18 octobre 2006 DECRET N*06-439/P-RM fixant les modalités d'application de la Loi n°01-004 du 27 février 2001 portant Charte Pastorale en République du Mali..................p1404\\n\\n20 novembre 2006 DECRET N°06-481/P-RM portant avancement de grade de magistrats.............................................................pl408\\n\\n20 novembre 2006 DECRET N°06-482/P RM fixant la répartition de l'aide financière de l'Etat aux Partis Politiques au titre de I'année 2006....p1410\\n\\nDECRET N*06-483/P-RM fixant les modalité25 d'application du TITRE VI du Code des Douanes relatif aux Zones Franches......p1410\\n\\nDECRET N°06-484/p-RM portant affectation au Ministère de l'Habitat et de l'Urbanisme des parcelles de terrain, sises à Sikasso, Koutiala et Bougouni ...................................p1412\\n\\nDECRET N°06-485/P-RM portant affectation au Ministère de l'Habitat et de l'Urbanisme des parcelles de terrain objet de titres foncier5 n°1887 et2*3501 Commune VI du District de Bamako.....................................p1412\\n\\nDECRET N*06-486/P-RM portant désignation d'Officiers Observateurs à la Mission des Nations Unies au Libéria...............p1413\\n\\n21 novembre 2006 DECRET N°06-487/P-RM portant abrogation de dispositions des Décrets n°04- 410/P-RM du 20 septembre 2004 et n°06-393/P-RM du 19 septembre 2006 par nomination respectivement au grade de sous lieutenant et au grade de lieutenant ....p1414\\n\\n23 novembre 2006 DECRET N° 06-488/P-RM fixant les règles relatives à la protection contre les rayonnements ionisants, à la sureté et à la sécurité DES SOURCES DE RAYONNEMENTS IONISANTS..........................p1414\\n\\n27 novembre 2006 DECRET N°06-489/P-RM portant nomination des membres du Conseil d'Administration de la Maison Africaine de la Photographie.................................p1429\\n\\nDECRET N°06-490/P-RM portant nomination de membres du Conseil d'Administration de la Caisse de Retraite des Fonctionnaires (CRM)..... p1430\\n\\n26 novembre 2006 DECRET N° 06-491/P-RM portant Réestitution des terres aux collectivités Reconnues dans le Ressort de la République............p1430\\n\\n30 novembre 2006 DECRET N°06-492/P-RM portant désignation de l'organe chargé de la tenue du fichier national du Registre du commerce et du crédit mobilier (RCCM).....p1430\\n\\n04 décembre 2006 DECRET N°06-493/P-RM portant nomination du Délégué Général Adjoint aux élections......................................................p1431\\n\\n06 décembre 2006 DECRET N°06-494/P-RM portant nomination du Directeur du Centre de Développement des enfants et de documentation pour la SURVIE DE L'ENFANT (CREDOS)........................p1431\\n\\nDECRET N°06-495/P-RM portant nomination du Directeur National de l'Agriculture..................................................p1432\\n\\nDECRET N*06-496/P-RM portant désignation de membres dans les organes des Collectivités relevant perimetres irrigués dans la région de Koulikoro.....................p1432\")]"
      ]
     },
     "execution_count": 49,
     "metadata": {},
     "output_type": "execute_result"
    }
   ],
   "source": [
    "# df[df.title == doc_name]['content'].iloc[0]\n",
    "docs"
   ]
  }
 ],
 "metadata": {
  "kernelspec": {
   "display_name": "Ferdi_env_2",
   "language": "python",
   "name": "python3"
  },
  "language_info": {
   "codemirror_mode": {
    "name": "ipython",
    "version": 3
   },
   "file_extension": ".py",
   "mimetype": "text/x-python",
   "name": "python",
   "nbconvert_exporter": "python",
   "pygments_lexer": "ipython3",
   "version": "3.10.14"
  }
 },
 "nbformat": 4,
 "nbformat_minor": 2
}
